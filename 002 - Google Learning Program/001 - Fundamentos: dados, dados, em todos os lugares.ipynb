{
 "cells": [
  {
   "attachments": {},
   "cell_type": "markdown",
   "metadata": {},
   "source": [
    "# Fundamentos: dados, dados, em todos os lugares"
   ]
  },
  {
   "attachments": {},
   "cell_type": "markdown",
   "metadata": {},
   "source": [
    "## Módulo 1 - Apresentação da análise de dados\n",
    "\n",
    "- Análise de dados está presente em mais diferentes áreas, como: saúde, finanças, marketing, esportes, etc. Todas usam o poder dos dados para tomar decisões mais assertivas.\n",
    "- Dados são uma coleção de fatos\n",
    "- Análise de dados é a coleta, trransformação e organização dos dados de forma a extrair informações relevantes para tomada de decisão\n",
    "- Os dados evoluem com o tempo, e a análise de dados também. Assim, alguns consideram dados como o recurso mais valioso do mundo atualmente.\n",
    "- Os processos da análise de dados podem ser divididos em algumas etapas, como: perguntar, preparar, processar, analisar, compartilhar e agir.\n",
    "--------\n",
    "  -  O Artigo \"4 EXAMPLES OF BUSINESS ANALYTICS IN ACTION\" (https://online.hbs.edu/blog/post/business-analytics-examples) mostra exemplos de aplicações recentes de análise de dados em diferentes empresas.\n",
    "-----\n",
    "- Em análise de dados há três excelências que podem ser especializadas: estatísticas (o rigor das informações certas), desempenho (machine learning) e análise (focada em velocidade e visualização).\n",
    "- Ecossistemas de dados são os vários elementos que interagem entre si para produzir, gerenciar, armazenar, organizar, analisar e compartilhar dados.\n",
    "- A nuvem é uma parte importante do ecossistema de dados, pois permite o armazenamento e processamento de grandes volumes de dados.\n",
    "- Como exemplo de um ecossistema, é possível usar o banco de dados de uma loja (com informações de clientes, compras, etc) para ter em estoque os produtos mais vendidos em cada época do ano.\n",
    "- Ciência de dados é definida como criar novas formas de definir o desconhecido usando dados brutos. Enquanto isso, análise de dados é definida como a coleta, transformação e organização de dados de forma a extrair informações relevantes para tomada de decisão.\n",
    "- A tomada de decisões baseada em dados é uma abordagem que usa dados para resolver problemas e tomar decisões. Não importa o quão importante os dados são, eles não substituem a experiência e o conhecimento de um especialista para tomar decisões com base neles.\n",
    "- Deve-se tomar cuidado ao usar o instito ao tomar decisões, pois ele pode ser enviesado. O ideal é aliar os dados com o conhecimento do especialista. \n",
    "- O processo de análise de dados é definido pelo Google em:\n",
    "  1. **Perguntar:** pergunta/objetivo/desafio de negócios\n",
    "  2. **Preparar:** geração, coleta, armazenamento e gerenciamento de dados\n",
    "  3. **Processar:** limpeza/integridade de dados\n",
    "  4. **Analisar:** exploração, visualização e análise de dados\n",
    "  5. **Compartilhar:** comunicação e interpretação de resultados \n",
    "  6. **Agir:**  aplicação dos insights com o objetivo de resolver o problema\n",
    "- O ciclo de vida da análise de dados da EMC Corporation é cíclico, com seis etapas:\n",
    "  1. **Descoberta**\n",
    "  2. **Pré-processamento de dados**\n",
    "  3. **Planejamento de modelo**\n",
    "  4. **Criação de modelos**\n",
    "  5. **Comunicação dos resultados**\n",
    "  6. **Operacionalização**"
   ]
  },
  {
   "attachments": {},
   "cell_type": "markdown",
   "metadata": {},
   "source": [
    "## Módulo 2 - Tudo sobre pensamento analítico\n",
    "- Habilidades analíticas são qualidades e características associadas com a resolução de problemas utilizando fatos.\n",
    "- Os 5 pontos principais são: curiosidade, compreensão do contexto (categorizar os elementos), ter mentalidade técnica (organizar o projeto em tarefas menores), design de dados (que pode ser o banco de dados) e estratégia de dados.\n",
    "- O pensamento analítico é a habilidade de resolver problemas de forma organizada, usando dados de forma a identificar padrões e tendências. \n",
    "- Os 5 pontos fundamentais pra o pensamento analítico são: visualização ( a representação gráfica da informação), estratégia (ajuda a focar no que pretende ser alcançado), orientação ao problema (para identgificar, descrever e resolver os problemas), correlação (identificar a correlação em diferentes tipos de dados) e o pensamento geral( identificar tanto o contexto todo quanto os detalhes).\n",
    "- Identificar a causa raiz é importante para resolver problemas e para tal podemos utilizar a técnica dos 5 porquês, que consiste em perguntar o porquê de um problema até chegar na causa raiz na quinta pergunta.\n",
    "- A análise de lacunas é uma técnica que consiste em identificar a diferença entre o estado atual e o estado desejado, e então identificar as ações necessárias para preencher essa lacuna."
   ]
  },
  {
   "attachments": {},
   "cell_type": "markdown",
   "metadata": {},
   "source": [
    " ## Módulo 3 - Aprendizado sobre as ferramentas de dados\n",
    "- Os estágios do ciclo de vidas dos dados são: planejamento, captura, gerenciamento, análise, arquivamento e destruição.\n",
    "    - **1. Planejamento:** definir o objetivo, o escopo, os requisitos do projeto e os responsáveis.\n",
    "    - **2. Captura:** coletar os dados de acordo com o planejamento de diferentes fontes.\n",
    "    - **3. Gerenciamento:** armazenar, organizar e limpar os dados.\n",
    "    - **4. Análise:** explorar, visualizar e analisar os dados.\n",
    "    - **5. Arquivamento:** armazenar os dados para uso futuro.\n",
    "    - **6. Destruição:** descartar os dados que não serão mais utilizados.\n",
    "  - A análise de dados não é um ciclo de vida, mas um processo de analisá-los. \n",
    "  - Na preparação para a análise é importante a presença das partes interessadas, seja gerentes, patrocinadores, etc, elas se importam com o resultado final e podem ajudar a definir o escopo do projeto.\n",
    "- Entre as principais ferramentas do analista de dados se encontram planilhas (como o Excel), bancos de dados (como o MySQL), linguagens de programação (como o Python) e ferramentas de visualização (como o Tableau e Looker).\n",
    "\n",
    "\n",
    "\n",
    "\n"
   ]
  }
 ],
 "metadata": {
  "kernelspec": {
   "display_name": ".venv",
   "language": "python",
   "name": "python3"
  },
  "language_info": {
   "codemirror_mode": {
    "name": "ipython",
    "version": 3
   },
   "file_extension": ".py",
   "mimetype": "text/x-python",
   "name": "python",
   "nbconvert_exporter": "python",
   "pygments_lexer": "ipython3",
   "version": "3.10.6"
  },
  "orig_nbformat": 4
 },
 "nbformat": 4,
 "nbformat_minor": 2
}
