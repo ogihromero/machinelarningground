{
 "cells": [
  {
   "attachments": {},
   "cell_type": "markdown",
   "metadata": {},
   "source": [
    "# Fundamentos: dados, dados, em todos os lugares"
   ]
  },
  {
   "attachments": {},
   "cell_type": "markdown",
   "metadata": {},
   "source": [
    "## Módulo 1 - Apresentação da análise de dados\n",
    "\n",
    "- Análise de dados está presente em mais diferentes áreas, como: saúde, finanças, marketing, esportes, etc. Todas usam o poder dos dados para tomar decisões mais assertivas.\n",
    "- Dados são uma coleção de fatos\n",
    "- Análise de dados é a coleta, trransformação e organização dos dados de forma a extrair informações relevantes para tomada de decisão\n",
    "- Os dados evoluem com o tempo, e a análise de dados também. Assim, alguns consideram dados como o recurso mais valioso do mundo atualmente.\n",
    "- Os processos da análise de dados podem ser divididos em algumas etapas, como: perguntar, preparar, processar, analisar, compartilhar e agir."
   ]
  }
 ],
 "metadata": {
  "language_info": {
   "name": "python"
  },
  "orig_nbformat": 4
 },
 "nbformat": 4,
 "nbformat_minor": 2
}
