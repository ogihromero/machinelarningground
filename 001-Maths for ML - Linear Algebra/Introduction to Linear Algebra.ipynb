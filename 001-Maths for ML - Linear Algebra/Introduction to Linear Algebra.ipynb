{
 "cells": [
  {
   "attachments": {},
   "cell_type": "markdown",
   "metadata": {},
   "source": [
    "# Mathematics for Machine Learning: Linear Algebra\n"
   ]
  },
  {
   "attachments": {},
   "cell_type": "markdown",
   "metadata": {},
   "source": [
    "\n",
    "## Módulo 1 - Introduction to Linear Algebra and to Mathematics for Machine Learning\n",
    "- Entre os problemas do cotidiano que podem ser resolvidos com álgebra linear se encontram achar o valor ideal para um produto, encontrar o valor ideal dos parâmetros na equação que descrevem a linha de um histograma.\n",
    "- Por exemplo, num histograma que define a distribuição de altura da população, entre 1.5 e 2m, uma equação com 2 parâmetros, sendo m o centro da distribuição e b o quão larga ela é, pode ser usada para descrever a distribuição. Achar os valores de m e b que melhor descrevem a distribuição é um problema de otimização, que pode ser resolvido com álgebra linear.  Dada a equação:\n",
    "    3x - y = 2\n",
    "    x = 4\n",
    "\n",
    "    Achar o valor de y é:\n",
    "    3x - y = 2\n",
    "    3(4) - y = 2\n",
    "    12 - y = 2\n",
    "    12 - 2 = y\n",
    "    y = 10\n",
    "\n",
    "- Vetores são objetos matemáticos que possuem magnitude e direção. Podem ser representados por uma lista de números, onde cada número representa a magnitude de um vetor em uma direção específica. Por exemplo, um vetor pode ser representado por [1, 2, 3], onde o primeiro número representa a magnitude do vetor na direção x, o segundo número representa a magnitude do vetor na direção y e o terceiro número representa a magnitude do vetor na direção z.\n",
    "- A soma de dois vetores é a soma de cada um dos seus componentes, ou seja, é associativa. Por exemplo, a soma de [1, 2, 3] e [4, 5, 6] é [5, 7, 9] e a soma de vetores r + s + t é r + (s + t) ou (r + s) + t sem nenhuma diferença.\n",
    "  - Dado os vetores [ 1, -2] e [-2, 1], a soma é [-1, -1].\n",
    "- Um vetor negativo é um vetor que aponta na direção oposta. Por exemplo, o vetor r = [1, 2, 3] é negativo se for representado por -r = [-1, -2, -3], -2r = [-2, -4, -6], etc.\n",
    "- A subtração vetorial é apenas a soma de um vetor com o vetor negativo do outro vetor. Por exemplo, a subtração de [1, 2, 3] e [4, 5, 6] é [1, 2, 3] + [-4, -5, -6] = [-3, -3, -3].\n",
    "  - Dados os vetores [-1, 2] e [1, -2], a subtração é [-2, 4]."
   ]
  }
 ],
 "metadata": {
  "kernelspec": {
   "display_name": ".venv",
   "language": "python",
   "name": "python3"
  },
  "language_info": {
   "codemirror_mode": {
    "name": "ipython",
    "version": 3
   },
   "file_extension": ".py",
   "mimetype": "text/x-python",
   "name": "python",
   "nbconvert_exporter": "python",
   "pygments_lexer": "ipython3",
   "version": "3.10.6"
  },
  "orig_nbformat": 4
 },
 "nbformat": 4,
 "nbformat_minor": 2
}
