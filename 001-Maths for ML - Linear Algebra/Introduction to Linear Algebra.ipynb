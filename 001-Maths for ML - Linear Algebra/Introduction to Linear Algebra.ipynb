{
 "cells": [
  {
   "attachments": {},
   "cell_type": "markdown",
   "metadata": {},
   "source": [
    "# Mathematics for Machine Learning: Linear Algebra\n"
   ]
  },
  {
   "attachments": {},
   "cell_type": "markdown",
   "metadata": {},
   "source": [
    "\n",
    "## Módulo 1 - Introduction to Linear Algebra and to Mathematics for Machine Learning\n",
    "- Entre os problemas do cotidiano que podem ser resolvidos com álgebra linear se encontram achar o valor ideal para um produto, encontrar o valor ideal dos parâmetros na equação que descrevem a linha de um histograma.\n",
    "- Por exemplo, num histograma que define a distribuição de altura da população, entre 1.5 e 2m, uma equação com 2 parâmetros, sendo m o centro da distribuição e b o quão larga ela é, pode ser usada para descrever a distribuição. Achar os valores de m e b que melhor descrevem a distribuição é um problema de otimização, que pode ser resolvido com álgebra linear.  Dada a equação:\n",
    "    3x - y = 2\n",
    "    x = 4\n",
    "\n",
    "    Achar o valor de y é:\n",
    "    3x - y = 2\n",
    "    3(4) - y = 2\n",
    "    12 - y = 2\n",
    "    12 - 2 = y\n",
    "    y = 10\n",
    "- Vetores são objetos matemáticos que possuem magnitude e direção. Podem ser representados por uma lista de números, onde cada número representa a magnitude de um vetor em uma direção específica. Por exemplo, um vetor pode ser representado por [1, 2, 3], onde o primeiro número representa a magnitude do vetor na direção x, o segundo número representa a magnitude do vetor na direção y e o terceiro número representa a magnitude do vetor na direção z.\n",
    "- A soma de dois vetores é a soma de cada um dos seus componentes, ou seja, é associativa. Por exemplo, a soma de [1, 2, 3] e [4, 5, 6] é [5, 7, 9] e a soma de vetores r + s + t é r + (s + t) ou (r + s) + t sem nenhuma diferença.\n",
    "  - Dado os vetores [ 1, -2] e [-2, 1], a soma é [-1, -1].\n",
    "- Um vetor negativo é um vetor que aponta na direção oposta. Por exemplo, o vetor r = [1, 2, 3] é negativo se for representado por -r = [-1, -2, -3], -2r = [-2, -4, -6], etc.\n",
    "- A subtração vetorial é apenas a soma de um vetor com o vetor negativo do outro vetor. Por exemplo, a subtração de [1, 2, 3] e [4, 5, 6] é [1, 2, 3] + [-4, -5, -6] = [-3, -3, -3].\n",
    "  - Dados os vetores [-1, 2] e [1, -2], a subtração é [-2, 4]."
   ]
  },
  {
   "attachments": {},
   "cell_type": "markdown",
   "metadata": {},
   "source": [
    "## Módulo 2 - Vetores\n",
    "- O comprimento ou tamanho de um vetor é a raiz quadrada da soma dos quadrados dos seus componentes, ou seja, a hipotenusa do triângulo formado pelos componentes do vetor, pode ser medido com o produto dele por ele mesmo e tomando a raiz quadrada do resultado . Por exemplo, o comprimento do vetor [4,3] é a raiz quadrada de 4² + 3² = 5.\n",
    "- O produto escalar ou projeção de um vetor r sobre um vetor s é a soma dos produtos dos componentes de r e s ( r1 *s1 + r2*s2,...). Por exemplo, o produto escalar de [3,2] sobre [-1,2] é 3*(-1) + 2*2 = -3 + 4 = 1. O produto escalar de um vetor sobre ele mesmo é o quadrado do comprimento do vetor. E o produto é uma propriedade comutativa, ou seja, r * s = s * r.\n",
    "- O produto é distributivo sobre adição, ou seja, r * (s + t) = r * s + r * t. Por exemplo, o produto escalar de [3,2] sobre [-1,2] e [1,1] é 3*(-1 + 1) + 2*(2 + 1) = -3 + 4 + 2 = 3.\n",
    "- O produto é associativo sobre multiplicação escalar, ou seja r * (ns) onde n é um número, é o mesmo que n(r * s). \n",
    "- Usando a regra de coseno em vetores podemos dizer que o produto de r e s é igual ao comprimento de r vezes o comprimento de s vezes o coseno do ângulo entre eles. r.s = ||r|| * ||s|| * cos(θ)\n",
    "- Então se os ângulos entre os vetores são ortogonais, isso é 90 graus, o produto escalar é zero, se o ângulo é 180 graus o produto escalar é negativo, estão indo em direção opostas e se o ângulo está mais ou menos na mesma direção o produto escalar é positivo.\n",
    "- A projeção de um vetor r sobre um vetor s é o vetor que tem o mesmo comprimento de r e está na mesma direção de s. Por exemplo, a projeção de [3,2] sobre [-1,2] é [1,2] e a projeção de [3,2] sobre [1,1] é [2,2].\n",
    "- O produto de r vezes s sobre o comprimento de r é igual ao comprimento de s vezes o seno do ângulo entre eles. r * s/||r|| = ||s|| * cos(θ), o que chamamos de projeção escalar de r sobre s.\n",
    "- Se r e s são perpendiculares, o produto escalar é zero, se r e s estão na mesma direção, o produto escalar é o quadrado do comprimento de r, se r e s estão em direções opostas, o produto escalar é o quadrado do comprimento de r com sinal negativo.\n",
    "- A projeção vetorial de r é definida por r*(r * s / ||r|| * ||r||) ou (r * s | r * r) * r. "
   ]
  },
  {
   "attachments": {},
   "cell_type": "markdown",
   "metadata": {},
   "source": []
  }
 ],
 "metadata": {
  "kernelspec": {
   "display_name": ".venv",
   "language": "python",
   "name": "python3"
  },
  "language_info": {
   "codemirror_mode": {
    "name": "ipython",
    "version": 3
   },
   "file_extension": ".py",
   "mimetype": "text/x-python",
   "name": "python",
   "nbconvert_exporter": "python",
   "pygments_lexer": "ipython3",
   "version": "3.10.6"
  },
  "orig_nbformat": 4
 },
 "nbformat": 4,
 "nbformat_minor": 2
}
